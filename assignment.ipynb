{
 "cells": [
  {
   "cell_type": "markdown",
   "metadata": {},
   "source": [
    "QUESTION 1"
   ]
  },
  {
   "cell_type": "code",
   "execution_count": 2,
   "metadata": {},
   "outputs": [
    {
     "name": "stdout",
     "output_type": "stream",
     "text": [
      "A + B:\n",
      " [[ 3  1]\n",
      " [-3  7]]\n",
      "AB:\n",
      " [[ 5  0]\n",
      " [-9 12]]\n",
      "3A - 2B:\n",
      " [[ 4 -7]\n",
      " [ 6  1]]\n"
     ]
    }
   ],
   "source": [
    "\n",
    "import numpy as np\n",
    "\n",
    "# Define matrices A and B\n",
    "A = np.array([[2, -1], [0, 3]])\n",
    "B = np.array([[1, 2], [-3, 4]])\n",
    "\n",
    "# A + B\n",
    "result1 = A + B\n",
    "print(\"A + B:\\n\", result1)\n",
    "\n",
    "#  AB \n",
    "result2 = np.dot(A, B)  \n",
    "print(\"AB:\\n\", result2)\n",
    "\n",
    "# 3A - 2B\n",
    "result3 = 3 * A - 2 * B\n",
    "print(\"3A - 2B:\\n\", result3)\n"
   ]
  },
  {
   "cell_type": "code",
   "execution_count": null,
   "metadata": {},
   "outputs": [],
   "source": []
  },
  {
   "cell_type": "markdown",
   "metadata": {},
   "source": [
    "QUESTION 2"
   ]
  },
  {
   "cell_type": "code",
   "execution_count": 10,
   "metadata": {},
   "outputs": [
    {
     "name": "stdout",
     "output_type": "stream",
     "text": [
      "Determinant of A: 6.0\n",
      "Inverse of A:\n",
      " [[0.5        0.16666667]\n",
      " [0.         0.33333333]]\n"
     ]
    }
   ],
   "source": [
    "\n",
    "\n",
    "# Define matrix A\n",
    "A = np.array([[2, -1], [0, 3]])\n",
    "\n",
    "# determinant of A\n",
    "det_A = np.linalg.det(A)\n",
    "print(\"Determinant of A:\", det_A)\n",
    "\n",
    "# Check if A is invertible \n",
    "if det_A != 0:\n",
    "    # Calculate the inverse of A\n",
    "    A_inv = np.linalg.inv(A)\n",
    "    print(\"Inverse of A:\\n\", A_inv)\n",
    "else:\n",
    "    print(\"Matrix A is not invertible.\")\n"
   ]
  },
  {
   "cell_type": "markdown",
   "metadata": {},
   "source": [
    "QUESTION 3"
   ]
  },
  {
   "cell_type": "code",
   "execution_count": null,
   "metadata": {},
   "outputs": [
    {
     "name": "stdout",
     "output_type": "stream",
     "text": [
      "eigen values of matrix A is [2. 3.]\n",
      "eigen vectors of matrix A is [[ 1.         -0.70710678]\n",
      " [ 0.          0.70710678]]\n"
     ]
    }
   ],
   "source": [
    "#define the matrix c\n",
    "C = np.array([[4,1],\n",
    "              [-2,1]])\n",
    "#eigen value and eigen vector\n",
    "eigval,eigvec = np.linalg.eig(A)\n",
    "print(f\"eigen values of matrix A is {eigval}\")\n",
    "print(f\"eigen vectors of matrix A is {eigvec}\")"
   ]
  },
  {
   "cell_type": "markdown",
   "metadata": {},
   "source": [
    "QUESTION 4"
   ]
  },
  {
   "cell_type": "code",
   "execution_count": 18,
   "metadata": {},
   "outputs": [
    {
     "name": "stdout",
     "output_type": "stream",
     "text": [
      " price of the car X3 is 39.99999999999998\n"
     ]
    }
   ],
   "source": [
    "S= np.array([[4,1.5,100], #feature for car1\n",
    "              [6,2.0,150]]) #feature for car2\n",
    "P = np.array([[20],       #price for car1 and car2\n",
    "              [30]])\n",
    "inv = np.linalg.pinv(S.T @ S)\n",
    "B = inv @ S.T @ P\n",
    "X = np.array([[8,3.0,200]])\n",
    "pri= np.linalg.det(X @ B)\n",
    "print(f\" price of the car X3 is {pri}\") #price for car3"
   ]
  }
 ],
 "metadata": {
  "kernelspec": {
   "display_name": "Python 3",
   "language": "python",
   "name": "python3"
  },
  "language_info": {
   "codemirror_mode": {
    "name": "ipython",
    "version": 3
   },
   "file_extension": ".py",
   "mimetype": "text/x-python",
   "name": "python",
   "nbconvert_exporter": "python",
   "pygments_lexer": "ipython3",
   "version": "3.13.0"
  }
 },
 "nbformat": 4,
 "nbformat_minor": 2
}
